{
 "cells": [
  {
   "cell_type": "code",
   "execution_count": 1,
   "metadata": {
    "collapsed": true
   },
   "outputs": [],
   "source": [
    "from collections import namedtuple\n",
    "from decimal import Decimal as D\n",
    "import numpy as np\n",
    "import scipy as sp\n",
    "import datetime"
   ]
  },
  {
   "cell_type": "code",
   "execution_count": 2,
   "metadata": {},
   "outputs": [],
   "source": [
    "# index into the price tree\n",
    "# t is total number of months, n_up is number of \"up\" months\n",
    "class I(namedtuple('IndexBase', 't n_up')):\n",
    "    def __init__(self, t, n_up):\n",
    "        assert 0 <= self.n_up <= self.t, \\\n",
    "            \"We want 0 <= %s <= %s\" % (self.n_up, self.t)\n",
    "\n",
    "    @property\n",
    "    def n_down(self):\n",
    "        return self.t - self.n_up\n",
    "\n",
    "    def go_up(self):\n",
    "        return I(self.t + 1, self.n_up + 1)\n",
    "\n",
    "    def go_down(self):\n",
    "        return I(self.t + 1, self.n_up)\n"
   ]
  },
  {
   "cell_type": "code",
   "execution_count": 36,
   "metadata": {
    "collapsed": true
   },
   "outputs": [],
   "source": [
    "class Params(namedtuple('ParamsBase', [\n",
    "    # company parameters\n",
    "    'initial_valuation',\n",
    "    'strike_price',\n",
    "    'annual_volatility',\n",
    "    'annual_growth',\n",
    "    # numerics parameters\n",
    "    'annual_timesteps',\n",
    "    # offer parameters\n",
    "    'vesting_period',  # years\n",
    "    'ownership_fraction',\n",
    "    'opportunity_cost',  # annual $ lost from not working at bigco\n",
    "])):\n",
    "\n",
    "    @property\n",
    "    def ts_volatility(self):\n",
    "        return self.annual_volatility / np.sqrt(self.annual_timesteps)\n",
    "\n",
    "    @property\n",
    "    def ts_growth(self):\n",
    "        return self.annual_growth ** (1/self.annual_timesteps)\n",
    "\n",
    "    @property\n",
    "    def ts_sim_interval(self):\n",
    "        return self.vesting_period * self.annual_timesteps\n",
    "    \n",
    "    @property\n",
    "    def ts_vesting_interval(self):\n",
    "        return self.vesting_period * self.annual_timesteps\n",
    "    \n",
    "    @property\n",
    "    def ts_gain(self):\n",
    "        \"\"\"Amount the valuation goes up per one 'up' timestep\"\"\"\n",
    "        # Source: http://www.maths.usyd.edu.au/u/UG/SM/MATH3075/r/Slides_7_Binomial_Market_Model.pdf\n",
    "        return np.exp(self.ts_volatility)\n",
    "\n",
    "    @property\n",
    "    def ts_loss(self):\n",
    "        return 1/self.ts_gain\n",
    "    \n",
    "    @property\n",
    "    def ts_opportunity_cost(self):\n",
    "        return self.opportunity_cost / self.annual_timesteps\n",
    "\n",
    "    @property\n",
    "    def p_growth(self):\n",
    "        \"\"\"Probability that each timestep is an 'up' timestep\"\"\"\n",
    "        # Source: http://www.maths.usyd.edu.au/u/UG/SM/MATH3075/r/Slides_7_Binomial_Market_Model.pdf\n",
    "        return (self.ts_growth - self.ts_loss) / (self.ts_gain - self.ts_loss)\n",
    "\n",
    "    @property\n",
    "    def ts_vesting_increments(self):\n",
    "        cliff = self.annual_timesteps\n",
    "        end = self.ts_vesting_interval\n",
    "        month_len = self.annual_timesteps // 12\n",
    "        return [0] + list(range(cliff, end + 1, month_len))\n",
    "\n",
    "    @property\n",
    "    def p_loss(self):\n",
    "        return 1 - self.p_growth"
   ]
  },
  {
   "cell_type": "code",
   "execution_count": 48,
   "metadata": {},
   "outputs": [
    {
     "name": "stdout",
     "output_type": "stream",
     "text": [
      "1.08\n",
      "1.00322105667\n",
      "[0, 24, 26, 28, 30, 32, 34, 36, 38, 40, 42, 44, 46, 48, 50, 52, 54, 56, 58, 60, 62, 64, 66, 68, 70, 72, 74, 76, 78, 80, 82, 84, 86, 88, 90, 92, 94, 96]\n"
     ]
    }
   ],
   "source": [
    "# coherence checks:\n",
    "params = Params(2e7, 5e6, 1.0, 1.08, 24, 4, 0.006, 60000)\n",
    "# computed expected growth should be 1.08\n",
    "print((params.p_growth * params.ts_gain + (1 - params.p_growth) * params.ts_loss) ** params.annual_timesteps)\n",
    "# computed annual volatility should be 0.54\n",
    "print(np.sqrt(((params.p_growth * params.ts_gain ** 2 + (1 - params.p_growth) * params.ts_loss ** 2)\n",
    "               - params.ts_growth ** 2) * params.annual_timesteps))\n",
    "print(params.ts_vesting_increments)"
   ]
  },
  {
   "cell_type": "code",
   "execution_count": 5,
   "metadata": {},
   "outputs": [
    {
     "name": "stdout",
     "output_type": "stream",
     "text": [
      "Super naive option value: 90000.0\n",
      "Total cost: 240000\n"
     ]
    }
   ],
   "source": [
    "print('Super naive option value:', (params.initial_valuation - params.strike_price) * params.ownership_fraction)\n",
    "print('Total cost:', params.opportunity_cost * params.vesting_period)"
   ]
  },
  {
   "cell_type": "code",
   "execution_count": 42,
   "metadata": {
    "collapsed": true
   },
   "outputs": [],
   "source": [
    "CACHE_INVAL_TIME = datetime.datetime.now()\n",
    "def memoize(fn):\n",
    "    # inval the cache bc we're probably redefining a function\n",
    "    global CACHE_INVAL_TIME\n",
    "    CACHE_INVAL_TIME = datetime.datetime.now()\n",
    "    fn.cache = {}\n",
    "    fn.cache_inval_time = datetime.datetime.now()\n",
    "    def inner(*args):\n",
    "        if fn.cache_inval_time < CACHE_INVAL_TIME:\n",
    "            fn.cache = {}\n",
    "            fn.cache_inval_time = datetime.datetime.now()\n",
    "        if args not in fn.cache:\n",
    "            fn.cache[args] = fn(*args)\n",
    "        return fn.cache[args]\n",
    "    return inner"
   ]
  },
  {
   "cell_type": "code",
   "execution_count": 52,
   "metadata": {},
   "outputs": [
    {
     "name": "stdout",
     "output_type": "stream",
     "text": [
      "29114.450761\n"
     ]
    }
   ],
   "source": [
    "def get_valuation(pm, i):\n",
    "    return pm.initial_valuation * pm.ts_gain ** (i.n_up - i.n_down)\n",
    "\n",
    "\n",
    "@memoize\n",
    "def get_payoff(pm, i, t_quit, t_vesting_end):\n",
    "    \"\"\"Get the expected payoff from state i, if you quit at time t_quit\"\"\"\n",
    "    if i.t == pm.ts_sim_interval:\n",
    "        # pretend we exercise at the end of the vesting period\n",
    "        ts_vesting = pm.ts_vesting_interval if t_vesting_end is None else t_vesting_end\n",
    "        ts_working = pm.ts_sim_interval if t_quit is None else t_quit\n",
    "        # TODO(ben): apply time discounting the opportunity cost\n",
    "        cost = ts_working * pm.ts_opportunity_cost\n",
    "        # TODO(ben): extrapolate to IPO\n",
    "        full_payoff = max(get_valuation(pm, i) - pm.strike_price, 0)\n",
    "        return full_payoff * pm.ownership_fraction * (ts_vesting / pm.ts_vesting_interval) - cost\n",
    "    elif t_quit is not None:\n",
    "        # we already quit, so just run through to the end\n",
    "        return (pm.p_growth * get_payoff(pm, i.go_up(), t_quit, t_vesting_end)\n",
    "                + pm.p_loss * get_payoff(pm, i.go_down(), t_quit, t_vesting_end))\n",
    "    else:\n",
    "        return max(get_payoff_if_quit(pm, i), get_payoff_if_stay(pm, i))\n",
    "\n",
    "def get_payoff_if_quit(pm, i):\n",
    "    \"\"\"Get the expected payoff from state i, if you quit exactly then\"\"\"\n",
    "    # vesting ends at the last \"vesting increment\"\n",
    "    t_vesting_end = max(t for t in pm.ts_vesting_increments if t <= i.t)\n",
    "    return get_payoff(pm, i, i.t, t_vesting_end)\n",
    "\n",
    "def get_payoff_if_stay(pm, i):\n",
    "    \"\"\"Get the expected payoff from state i, if you quit exactly then\"\"\"\n",
    "    return (pm.p_growth * get_payoff(pm, i.go_up(), None, None)\n",
    "            + pm.p_loss * get_payoff(pm, i.go_down(), None, None))\n",
    "\n",
    "print(get_payoff(params, I(0, 0), None, None))"
   ]
  },
  {
   "cell_type": "code",
   "execution_count": 53,
   "metadata": {},
   "outputs": [
    {
     "name": "stdout",
     "output_type": "stream",
     "text": [
      "-95175.1203478\n"
     ]
    }
   ],
   "source": [
    "@memoize\n",
    "def get_naive_payoff(pm, i):\n",
    "    \"\"\"Get the expected payoff from state i if you can't quit\"\"\"\n",
    "    if i.t == pm.vesting_period * pm.annual_timesteps:\n",
    "        cost = pm.vesting_period * pm.opportunity_cost\n",
    "        payoff = max(get_valuation(pm, i) - pm.strike_price, 0)\n",
    "        return payoff * pm.ownership_fraction - cost\n",
    "    else:\n",
    "        return (pm.p_growth * get_naive_payoff(pm, i.go_up())\n",
    "                + pm.p_loss * get_naive_payoff(pm, i.go_down()))\n",
    "\n",
    "print(get_naive_payoff(params, I(0, 0)))"
   ]
  },
  {
   "cell_type": "code",
   "execution_count": null,
   "metadata": {
    "collapsed": true
   },
   "outputs": [],
   "source": []
  }
 ],
 "metadata": {
  "kernelspec": {
   "display_name": "Python 3",
   "language": "python",
   "name": "python3"
  },
  "language_info": {
   "codemirror_mode": {
    "name": "ipython",
    "version": 3
   },
   "file_extension": ".py",
   "mimetype": "text/x-python",
   "name": "python",
   "nbconvert_exporter": "python",
   "pygments_lexer": "ipython3",
   "version": "3.5.1"
  }
 },
 "nbformat": 4,
 "nbformat_minor": 2
}
